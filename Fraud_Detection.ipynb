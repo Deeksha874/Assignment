{
  "nbformat": 4,
  "nbformat_minor": 0,
  "metadata": {
    "colab": {
      "name": "Fraud Detection",
      "provenance": [],
      "collapsed_sections": []
    },
    "kernelspec": {
      "name": "python3",
      "display_name": "Python 3"
    }
  },
  "cells": [
    {
      "cell_type": "markdown",
      "metadata": {
        "id": "UraA1XrrxvIo",
        "colab_type": "text"
      },
      "source": [
        "**Importing Libraries**"
      ]
    },
    {
      "cell_type": "code",
      "metadata": {
        "id": "y_0Gr9fixvq3",
        "colab_type": "code",
        "colab": {
          "base_uri": "https://localhost:8080/",
          "height": 71
        },
        "outputId": "e277008e-4b4e-475e-c845-d7e36f60a08b"
      },
      "source": [
        "import pandas as pd\n",
        "import numpy as np\n",
        "import matplotlib.pyplot as plt\n",
        "from pylab import rcParams\n",
        "import seaborn as sns\n",
        "%matplotlib inline"
      ],
      "execution_count": 1,
      "outputs": [
        {
          "output_type": "stream",
          "text": [
            "/usr/local/lib/python3.6/dist-packages/statsmodels/tools/_testing.py:19: FutureWarning: pandas.util.testing is deprecated. Use the functions in the public API at pandas.testing instead.\n",
            "  import pandas.util.testing as tm\n"
          ],
          "name": "stderr"
        }
      ]
    },
    {
      "cell_type": "markdown",
      "metadata": {
        "id": "tcJEzKgwxhmb",
        "colab_type": "text"
      },
      "source": [
        "**Reading Dataset**"
      ]
    },
    {
      "cell_type": "code",
      "metadata": {
        "id": "Q3o1Hjd7vcZI",
        "colab_type": "code",
        "colab": {}
      },
      "source": [
        "\n",
        "fd=pd.read_csv('creditcard.csv')"
      ],
      "execution_count": null,
      "outputs": []
    },
    {
      "cell_type": "code",
      "metadata": {
        "id": "2jyMC-2Xnevx",
        "colab_type": "code",
        "colab": {
          "base_uri": "https://localhost:8080/",
          "height": 224
        },
        "outputId": "08edc0a3-2592-45e2-dc67-4da9dcd67a45"
      },
      "source": [
        "fd.head()"
      ],
      "execution_count": null,
      "outputs": [
        {
          "output_type": "execute_result",
          "data": {
            "text/html": [
              "<div>\n",
              "<style scoped>\n",
              "    .dataframe tbody tr th:only-of-type {\n",
              "        vertical-align: middle;\n",
              "    }\n",
              "\n",
              "    .dataframe tbody tr th {\n",
              "        vertical-align: top;\n",
              "    }\n",
              "\n",
              "    .dataframe thead th {\n",
              "        text-align: right;\n",
              "    }\n",
              "</style>\n",
              "<table border=\"1\" class=\"dataframe\">\n",
              "  <thead>\n",
              "    <tr style=\"text-align: right;\">\n",
              "      <th></th>\n",
              "      <th>Time</th>\n",
              "      <th>V1</th>\n",
              "      <th>V2</th>\n",
              "      <th>V3</th>\n",
              "      <th>V4</th>\n",
              "      <th>V5</th>\n",
              "      <th>V6</th>\n",
              "      <th>V7</th>\n",
              "      <th>V8</th>\n",
              "      <th>V9</th>\n",
              "      <th>V10</th>\n",
              "      <th>V11</th>\n",
              "      <th>V12</th>\n",
              "      <th>V13</th>\n",
              "      <th>V14</th>\n",
              "      <th>V15</th>\n",
              "      <th>V16</th>\n",
              "      <th>V17</th>\n",
              "      <th>V18</th>\n",
              "      <th>V19</th>\n",
              "      <th>V20</th>\n",
              "      <th>V21</th>\n",
              "      <th>V22</th>\n",
              "      <th>V23</th>\n",
              "      <th>V24</th>\n",
              "      <th>V25</th>\n",
              "      <th>V26</th>\n",
              "      <th>V27</th>\n",
              "      <th>V28</th>\n",
              "      <th>Amount</th>\n",
              "      <th>Class</th>\n",
              "    </tr>\n",
              "  </thead>\n",
              "  <tbody>\n",
              "    <tr>\n",
              "      <th>0</th>\n",
              "      <td>0.0</td>\n",
              "      <td>-1.359807</td>\n",
              "      <td>-0.072781</td>\n",
              "      <td>2.536347</td>\n",
              "      <td>1.378155</td>\n",
              "      <td>-0.338321</td>\n",
              "      <td>0.462388</td>\n",
              "      <td>0.239599</td>\n",
              "      <td>0.098698</td>\n",
              "      <td>0.363787</td>\n",
              "      <td>0.090794</td>\n",
              "      <td>-0.551600</td>\n",
              "      <td>-0.617801</td>\n",
              "      <td>-0.991390</td>\n",
              "      <td>-0.311169</td>\n",
              "      <td>1.468177</td>\n",
              "      <td>-0.470401</td>\n",
              "      <td>0.207971</td>\n",
              "      <td>0.025791</td>\n",
              "      <td>0.403993</td>\n",
              "      <td>0.251412</td>\n",
              "      <td>-0.018307</td>\n",
              "      <td>0.277838</td>\n",
              "      <td>-0.110474</td>\n",
              "      <td>0.066928</td>\n",
              "      <td>0.128539</td>\n",
              "      <td>-0.189115</td>\n",
              "      <td>0.133558</td>\n",
              "      <td>-0.021053</td>\n",
              "      <td>149.62</td>\n",
              "      <td>0.0</td>\n",
              "    </tr>\n",
              "    <tr>\n",
              "      <th>1</th>\n",
              "      <td>0.0</td>\n",
              "      <td>1.191857</td>\n",
              "      <td>0.266151</td>\n",
              "      <td>0.166480</td>\n",
              "      <td>0.448154</td>\n",
              "      <td>0.060018</td>\n",
              "      <td>-0.082361</td>\n",
              "      <td>-0.078803</td>\n",
              "      <td>0.085102</td>\n",
              "      <td>-0.255425</td>\n",
              "      <td>-0.166974</td>\n",
              "      <td>1.612727</td>\n",
              "      <td>1.065235</td>\n",
              "      <td>0.489095</td>\n",
              "      <td>-0.143772</td>\n",
              "      <td>0.635558</td>\n",
              "      <td>0.463917</td>\n",
              "      <td>-0.114805</td>\n",
              "      <td>-0.183361</td>\n",
              "      <td>-0.145783</td>\n",
              "      <td>-0.069083</td>\n",
              "      <td>-0.225775</td>\n",
              "      <td>-0.638672</td>\n",
              "      <td>0.101288</td>\n",
              "      <td>-0.339846</td>\n",
              "      <td>0.167170</td>\n",
              "      <td>0.125895</td>\n",
              "      <td>-0.008983</td>\n",
              "      <td>0.014724</td>\n",
              "      <td>2.69</td>\n",
              "      <td>0.0</td>\n",
              "    </tr>\n",
              "    <tr>\n",
              "      <th>2</th>\n",
              "      <td>1.0</td>\n",
              "      <td>-1.358354</td>\n",
              "      <td>-1.340163</td>\n",
              "      <td>1.773209</td>\n",
              "      <td>0.379780</td>\n",
              "      <td>-0.503198</td>\n",
              "      <td>1.800499</td>\n",
              "      <td>0.791461</td>\n",
              "      <td>0.247676</td>\n",
              "      <td>-1.514654</td>\n",
              "      <td>0.207643</td>\n",
              "      <td>0.624501</td>\n",
              "      <td>0.066084</td>\n",
              "      <td>0.717293</td>\n",
              "      <td>-0.165946</td>\n",
              "      <td>2.345865</td>\n",
              "      <td>-2.890083</td>\n",
              "      <td>1.109969</td>\n",
              "      <td>-0.121359</td>\n",
              "      <td>-2.261857</td>\n",
              "      <td>0.524980</td>\n",
              "      <td>0.247998</td>\n",
              "      <td>0.771679</td>\n",
              "      <td>0.909412</td>\n",
              "      <td>-0.689281</td>\n",
              "      <td>-0.327642</td>\n",
              "      <td>-0.139097</td>\n",
              "      <td>-0.055353</td>\n",
              "      <td>-0.059752</td>\n",
              "      <td>378.66</td>\n",
              "      <td>0.0</td>\n",
              "    </tr>\n",
              "    <tr>\n",
              "      <th>3</th>\n",
              "      <td>1.0</td>\n",
              "      <td>-0.966272</td>\n",
              "      <td>-0.185226</td>\n",
              "      <td>1.792993</td>\n",
              "      <td>-0.863291</td>\n",
              "      <td>-0.010309</td>\n",
              "      <td>1.247203</td>\n",
              "      <td>0.237609</td>\n",
              "      <td>0.377436</td>\n",
              "      <td>-1.387024</td>\n",
              "      <td>-0.054952</td>\n",
              "      <td>-0.226487</td>\n",
              "      <td>0.178228</td>\n",
              "      <td>0.507757</td>\n",
              "      <td>-0.287924</td>\n",
              "      <td>-0.631418</td>\n",
              "      <td>-1.059647</td>\n",
              "      <td>-0.684093</td>\n",
              "      <td>1.965775</td>\n",
              "      <td>-1.232622</td>\n",
              "      <td>-0.208038</td>\n",
              "      <td>-0.108300</td>\n",
              "      <td>0.005274</td>\n",
              "      <td>-0.190321</td>\n",
              "      <td>-1.175575</td>\n",
              "      <td>0.647376</td>\n",
              "      <td>-0.221929</td>\n",
              "      <td>0.062723</td>\n",
              "      <td>0.061458</td>\n",
              "      <td>123.50</td>\n",
              "      <td>0.0</td>\n",
              "    </tr>\n",
              "    <tr>\n",
              "      <th>4</th>\n",
              "      <td>2.0</td>\n",
              "      <td>-1.158233</td>\n",
              "      <td>0.877737</td>\n",
              "      <td>1.548718</td>\n",
              "      <td>0.403034</td>\n",
              "      <td>-0.407193</td>\n",
              "      <td>0.095921</td>\n",
              "      <td>0.592941</td>\n",
              "      <td>-0.270533</td>\n",
              "      <td>0.817739</td>\n",
              "      <td>0.753074</td>\n",
              "      <td>-0.822843</td>\n",
              "      <td>0.538196</td>\n",
              "      <td>1.345852</td>\n",
              "      <td>-1.119670</td>\n",
              "      <td>0.175121</td>\n",
              "      <td>-0.451449</td>\n",
              "      <td>-0.237033</td>\n",
              "      <td>-0.038195</td>\n",
              "      <td>0.803487</td>\n",
              "      <td>0.408542</td>\n",
              "      <td>-0.009431</td>\n",
              "      <td>0.798278</td>\n",
              "      <td>-0.137458</td>\n",
              "      <td>0.141267</td>\n",
              "      <td>-0.206010</td>\n",
              "      <td>0.502292</td>\n",
              "      <td>0.219422</td>\n",
              "      <td>0.215153</td>\n",
              "      <td>69.99</td>\n",
              "      <td>0.0</td>\n",
              "    </tr>\n",
              "  </tbody>\n",
              "</table>\n",
              "</div>"
            ],
            "text/plain": [
              "   Time        V1        V2        V3  ...       V27       V28  Amount  Class\n",
              "0   0.0 -1.359807 -0.072781  2.536347  ...  0.133558 -0.021053  149.62    0.0\n",
              "1   0.0  1.191857  0.266151  0.166480  ... -0.008983  0.014724    2.69    0.0\n",
              "2   1.0 -1.358354 -1.340163  1.773209  ... -0.055353 -0.059752  378.66    0.0\n",
              "3   1.0 -0.966272 -0.185226  1.792993  ...  0.062723  0.061458  123.50    0.0\n",
              "4   2.0 -1.158233  0.877737  1.548718  ...  0.219422  0.215153   69.99    0.0\n",
              "\n",
              "[5 rows x 31 columns]"
            ]
          },
          "metadata": {
            "tags": []
          },
          "execution_count": 21
        }
      ]
    },
    {
      "cell_type": "markdown",
      "metadata": {
        "id": "5ASUDIajSylp",
        "colab_type": "text"
      },
      "source": [
        "**Information**\n"
      ]
    },
    {
      "cell_type": "code",
      "metadata": {
        "id": "8XgVndhNnjYU",
        "colab_type": "code",
        "colab": {
          "base_uri": "https://localhost:8080/",
          "height": 680
        },
        "outputId": "bbd098dd-cb3e-41ee-d308-923ba8bd39fe"
      },
      "source": [
        "fd.info()"
      ],
      "execution_count": null,
      "outputs": [
        {
          "output_type": "stream",
          "text": [
            "<class 'pandas.core.frame.DataFrame'>\n",
            "RangeIndex: 283145 entries, 0 to 283144\n",
            "Data columns (total 32 columns):\n",
            " #   Column  Non-Null Count   Dtype  \n",
            "---  ------  --------------   -----  \n",
            " 0   index   283145 non-null  int64  \n",
            " 1   Time    283145 non-null  float64\n",
            " 2   V1      283145 non-null  float64\n",
            " 3   V2      283145 non-null  float64\n",
            " 4   V3      283145 non-null  float64\n",
            " 5   V4      283145 non-null  float64\n",
            " 6   V5      283145 non-null  float64\n",
            " 7   V6      283145 non-null  float64\n",
            " 8   V7      283145 non-null  float64\n",
            " 9   V8      283145 non-null  float64\n",
            " 10  V9      283145 non-null  float64\n",
            " 11  V10     283145 non-null  float64\n",
            " 12  V11     283145 non-null  float64\n",
            " 13  V12     283145 non-null  float64\n",
            " 14  V13     283145 non-null  float64\n",
            " 15  V14     283145 non-null  float64\n",
            " 16  V15     283144 non-null  float64\n",
            " 17  V16     283144 non-null  float64\n",
            " 18  V17     283144 non-null  float64\n",
            " 19  V18     283144 non-null  float64\n",
            " 20  V19     283144 non-null  float64\n",
            " 21  V20     283144 non-null  float64\n",
            " 22  V21     283144 non-null  float64\n",
            " 23  V22     283144 non-null  float64\n",
            " 24  V23     283144 non-null  float64\n",
            " 25  V24     283144 non-null  float64\n",
            " 26  V25     283144 non-null  float64\n",
            " 27  V26     283144 non-null  float64\n",
            " 28  V27     283144 non-null  float64\n",
            " 29  V28     283144 non-null  float64\n",
            " 30  Amount  283144 non-null  float64\n",
            " 31  Class   283144 non-null  float64\n",
            "dtypes: float64(31), int64(1)\n",
            "memory usage: 69.1 MB\n"
          ],
          "name": "stdout"
        }
      ]
    },
    {
      "cell_type": "markdown",
      "metadata": {
        "id": "XYIpFXodzAwX",
        "colab_type": "text"
      },
      "source": [
        "**Null Values**"
      ]
    },
    {
      "cell_type": "code",
      "metadata": {
        "id": "6Pgv4ATmzLGq",
        "colab_type": "code",
        "colab": {
          "base_uri": "https://localhost:8080/",
          "height": 578
        },
        "outputId": "d41d9cc2-2cf7-45c1-b53f-6cb8ad2c33be"
      },
      "source": [
        "fd.isnull().sum()"
      ],
      "execution_count": null,
      "outputs": [
        {
          "output_type": "execute_result",
          "data": {
            "text/plain": [
              "index     0\n",
              "Time      0\n",
              "V1        0\n",
              "V2        0\n",
              "V3        0\n",
              "V4        0\n",
              "V5        0\n",
              "V6        0\n",
              "V7        0\n",
              "V8        0\n",
              "V9        0\n",
              "V10       0\n",
              "V11       0\n",
              "V12       0\n",
              "V13       0\n",
              "V14       0\n",
              "V15       0\n",
              "V16       0\n",
              "V17       0\n",
              "V18       0\n",
              "V19       0\n",
              "V20       0\n",
              "V21       0\n",
              "V22       0\n",
              "V23       0\n",
              "V24       0\n",
              "V25       0\n",
              "V26       0\n",
              "V27       0\n",
              "V28       0\n",
              "Amount    0\n",
              "Class     0\n",
              "dtype: int64"
            ]
          },
          "metadata": {
            "tags": []
          },
          "execution_count": 243
        }
      ]
    },
    {
      "cell_type": "markdown",
      "metadata": {
        "id": "R58-HMGnyezc",
        "colab_type": "text"
      },
      "source": [
        "**Descriptive Statistics**"
      ]
    },
    {
      "cell_type": "code",
      "metadata": {
        "id": "4hme5W3boMBN",
        "colab_type": "code",
        "colab": {
          "base_uri": "https://localhost:8080/",
          "height": 102
        },
        "outputId": "ecfce7d5-724b-4130-c648-d6f3694b0ee7"
      },
      "source": [
        "fd.columns"
      ],
      "execution_count": null,
      "outputs": [
        {
          "output_type": "execute_result",
          "data": {
            "text/plain": [
              "Index(['Time', 'V1', 'V2', 'V3', 'V4', 'V5', 'V6', 'V7', 'V8', 'V9', 'V10',\n",
              "       'V11', 'V12', 'V13', 'V14', 'V15', 'V16', 'V17', 'V18', 'V19', 'V20',\n",
              "       'V21', 'V22', 'V23', 'V24', 'V25', 'V26', 'V27', 'V28', 'Amount',\n",
              "       'Class'],\n",
              "      dtype='object')"
            ]
          },
          "metadata": {
            "tags": []
          },
          "execution_count": 25
        }
      ]
    },
    {
      "cell_type": "code",
      "metadata": {
        "id": "dA_0JnbSzT8r",
        "colab_type": "code",
        "colab": {
          "base_uri": "https://localhost:8080/",
          "height": 34
        },
        "outputId": "24d5c9b6-1096-47fe-8ff8-37fab2bfcbcd"
      },
      "source": [
        "fd.shape"
      ],
      "execution_count": null,
      "outputs": [
        {
          "output_type": "execute_result",
          "data": {
            "text/plain": [
              "(283144, 32)"
            ]
          },
          "metadata": {
            "tags": []
          },
          "execution_count": 245
        }
      ]
    },
    {
      "cell_type": "code",
      "metadata": {
        "id": "sLScmP2O0pBI",
        "colab_type": "code",
        "colab": {
          "base_uri": "https://localhost:8080/",
          "height": 204
        },
        "outputId": "363923a4-f143-4d58-a3b1-f5f11786b7b4"
      },
      "source": [
        "fd.describe().T.head()"
      ],
      "execution_count": null,
      "outputs": [
        {
          "output_type": "execute_result",
          "data": {
            "text/html": [
              "<div>\n",
              "<style scoped>\n",
              "    .dataframe tbody tr th:only-of-type {\n",
              "        vertical-align: middle;\n",
              "    }\n",
              "\n",
              "    .dataframe tbody tr th {\n",
              "        vertical-align: top;\n",
              "    }\n",
              "\n",
              "    .dataframe thead th {\n",
              "        text-align: right;\n",
              "    }\n",
              "</style>\n",
              "<table border=\"1\" class=\"dataframe\">\n",
              "  <thead>\n",
              "    <tr style=\"text-align: right;\">\n",
              "      <th></th>\n",
              "      <th>count</th>\n",
              "      <th>mean</th>\n",
              "      <th>std</th>\n",
              "      <th>min</th>\n",
              "      <th>25%</th>\n",
              "      <th>50%</th>\n",
              "      <th>75%</th>\n",
              "      <th>max</th>\n",
              "    </tr>\n",
              "  </thead>\n",
              "  <tbody>\n",
              "    <tr>\n",
              "      <th>index</th>\n",
              "      <td>283144.0</td>\n",
              "      <td>141571.500000</td>\n",
              "      <td>81736.776647</td>\n",
              "      <td>0.000000</td>\n",
              "      <td>70785.750000</td>\n",
              "      <td>141571.500000</td>\n",
              "      <td>212357.250000</td>\n",
              "      <td>283143.000000</td>\n",
              "    </tr>\n",
              "    <tr>\n",
              "      <th>Time</th>\n",
              "      <td>283144.0</td>\n",
              "      <td>94360.198652</td>\n",
              "      <td>47255.911145</td>\n",
              "      <td>0.000000</td>\n",
              "      <td>54019.000000</td>\n",
              "      <td>84393.500000</td>\n",
              "      <td>138822.250000</td>\n",
              "      <td>171399.000000</td>\n",
              "    </tr>\n",
              "    <tr>\n",
              "      <th>V1</th>\n",
              "      <td>283144.0</td>\n",
              "      <td>-0.000496</td>\n",
              "      <td>1.958665</td>\n",
              "      <td>-56.407510</td>\n",
              "      <td>-0.920451</td>\n",
              "      <td>0.018481</td>\n",
              "      <td>1.314418</td>\n",
              "      <td>2.454930</td>\n",
              "    </tr>\n",
              "    <tr>\n",
              "      <th>V2</th>\n",
              "      <td>283144.0</td>\n",
              "      <td>-0.002173</td>\n",
              "      <td>1.651810</td>\n",
              "      <td>-72.715728</td>\n",
              "      <td>-0.599794</td>\n",
              "      <td>0.064548</td>\n",
              "      <td>0.802042</td>\n",
              "      <td>22.057729</td>\n",
              "    </tr>\n",
              "    <tr>\n",
              "      <th>V3</th>\n",
              "      <td>283144.0</td>\n",
              "      <td>0.004484</td>\n",
              "      <td>1.515267</td>\n",
              "      <td>-48.325589</td>\n",
              "      <td>-0.883903</td>\n",
              "      <td>0.184552</td>\n",
              "      <td>1.030213</td>\n",
              "      <td>9.382558</td>\n",
              "    </tr>\n",
              "  </tbody>\n",
              "</table>\n",
              "</div>"
            ],
            "text/plain": [
              "          count           mean  ...            75%            max\n",
              "index  283144.0  141571.500000  ...  212357.250000  283143.000000\n",
              "Time   283144.0   94360.198652  ...  138822.250000  171399.000000\n",
              "V1     283144.0      -0.000496  ...       1.314418       2.454930\n",
              "V2     283144.0      -0.002173  ...       0.802042      22.057729\n",
              "V3     283144.0       0.004484  ...       1.030213       9.382558\n",
              "\n",
              "[5 rows x 8 columns]"
            ]
          },
          "metadata": {
            "tags": []
          },
          "execution_count": 246
        }
      ]
    },
    {
      "cell_type": "code",
      "metadata": {
        "id": "Hw8fXAVKywJZ",
        "colab_type": "code",
        "colab": {
          "base_uri": "https://localhost:8080/",
          "height": 317
        },
        "outputId": "e2438da2-6855-4e15-bfb0-17373867a73d"
      },
      "source": [
        "fd.describe()"
      ],
      "execution_count": null,
      "outputs": [
        {
          "output_type": "execute_result",
          "data": {
            "text/html": [
              "<div>\n",
              "<style scoped>\n",
              "    .dataframe tbody tr th:only-of-type {\n",
              "        vertical-align: middle;\n",
              "    }\n",
              "\n",
              "    .dataframe tbody tr th {\n",
              "        vertical-align: top;\n",
              "    }\n",
              "\n",
              "    .dataframe thead th {\n",
              "        text-align: right;\n",
              "    }\n",
              "</style>\n",
              "<table border=\"1\" class=\"dataframe\">\n",
              "  <thead>\n",
              "    <tr style=\"text-align: right;\">\n",
              "      <th></th>\n",
              "      <th>index</th>\n",
              "      <th>Time</th>\n",
              "      <th>V1</th>\n",
              "      <th>V2</th>\n",
              "      <th>V3</th>\n",
              "      <th>V4</th>\n",
              "      <th>V5</th>\n",
              "      <th>V6</th>\n",
              "      <th>V7</th>\n",
              "      <th>V8</th>\n",
              "      <th>V9</th>\n",
              "      <th>V10</th>\n",
              "      <th>V11</th>\n",
              "      <th>V12</th>\n",
              "      <th>V13</th>\n",
              "      <th>V14</th>\n",
              "      <th>V15</th>\n",
              "      <th>V16</th>\n",
              "      <th>V17</th>\n",
              "      <th>V18</th>\n",
              "      <th>V19</th>\n",
              "      <th>V20</th>\n",
              "      <th>V21</th>\n",
              "      <th>V22</th>\n",
              "      <th>V23</th>\n",
              "      <th>V24</th>\n",
              "      <th>V25</th>\n",
              "      <th>V26</th>\n",
              "      <th>V27</th>\n",
              "      <th>V28</th>\n",
              "      <th>Amount</th>\n",
              "      <th>Class</th>\n",
              "    </tr>\n",
              "  </thead>\n",
              "  <tbody>\n",
              "    <tr>\n",
              "      <th>count</th>\n",
              "      <td>283144.000000</td>\n",
              "      <td>283144.000000</td>\n",
              "      <td>283144.000000</td>\n",
              "      <td>283144.000000</td>\n",
              "      <td>283144.000000</td>\n",
              "      <td>283144.000000</td>\n",
              "      <td>283144.000000</td>\n",
              "      <td>283144.000000</td>\n",
              "      <td>283144.000000</td>\n",
              "      <td>283144.000000</td>\n",
              "      <td>283144.000000</td>\n",
              "      <td>283144.000000</td>\n",
              "      <td>283144.000000</td>\n",
              "      <td>283144.000000</td>\n",
              "      <td>283144.000000</td>\n",
              "      <td>283144.000000</td>\n",
              "      <td>283144.000000</td>\n",
              "      <td>283144.000000</td>\n",
              "      <td>283144.000000</td>\n",
              "      <td>283144.000000</td>\n",
              "      <td>283144.000000</td>\n",
              "      <td>283144.000000</td>\n",
              "      <td>283144.000000</td>\n",
              "      <td>283144.000000</td>\n",
              "      <td>283144.000000</td>\n",
              "      <td>283144.000000</td>\n",
              "      <td>283144.000000</td>\n",
              "      <td>283144.000000</td>\n",
              "      <td>283144.000000</td>\n",
              "      <td>283144.000000</td>\n",
              "      <td>283144.000000</td>\n",
              "      <td>283144.000000</td>\n",
              "    </tr>\n",
              "    <tr>\n",
              "      <th>mean</th>\n",
              "      <td>141571.500000</td>\n",
              "      <td>94360.198652</td>\n",
              "      <td>-0.000496</td>\n",
              "      <td>-0.002173</td>\n",
              "      <td>0.004484</td>\n",
              "      <td>0.000743</td>\n",
              "      <td>-0.001607</td>\n",
              "      <td>0.000792</td>\n",
              "      <td>-0.001127</td>\n",
              "      <td>-0.000249</td>\n",
              "      <td>-0.000187</td>\n",
              "      <td>0.000184</td>\n",
              "      <td>0.002143</td>\n",
              "      <td>-0.001555</td>\n",
              "      <td>-0.000030</td>\n",
              "      <td>0.000628</td>\n",
              "      <td>0.001111</td>\n",
              "      <td>0.000117</td>\n",
              "      <td>0.000183</td>\n",
              "      <td>-0.000562</td>\n",
              "      <td>-0.000105</td>\n",
              "      <td>0.000091</td>\n",
              "      <td>-0.000076</td>\n",
              "      <td>-0.000503</td>\n",
              "      <td>-0.000212</td>\n",
              "      <td>-0.000086</td>\n",
              "      <td>0.000775</td>\n",
              "      <td>-0.000009</td>\n",
              "      <td>-0.000072</td>\n",
              "      <td>0.000023</td>\n",
              "      <td>88.456790</td>\n",
              "      <td>0.001738</td>\n",
              "    </tr>\n",
              "    <tr>\n",
              "      <th>std</th>\n",
              "      <td>81736.776647</td>\n",
              "      <td>47255.911145</td>\n",
              "      <td>1.958665</td>\n",
              "      <td>1.651810</td>\n",
              "      <td>1.515267</td>\n",
              "      <td>1.415902</td>\n",
              "      <td>1.379161</td>\n",
              "      <td>1.331398</td>\n",
              "      <td>1.235182</td>\n",
              "      <td>1.195088</td>\n",
              "      <td>1.099066</td>\n",
              "      <td>1.088101</td>\n",
              "      <td>1.020944</td>\n",
              "      <td>1.000624</td>\n",
              "      <td>0.995906</td>\n",
              "      <td>0.958952</td>\n",
              "      <td>0.915964</td>\n",
              "      <td>0.876620</td>\n",
              "      <td>0.850016</td>\n",
              "      <td>0.838437</td>\n",
              "      <td>0.814198</td>\n",
              "      <td>0.771861</td>\n",
              "      <td>0.735626</td>\n",
              "      <td>0.725335</td>\n",
              "      <td>0.625197</td>\n",
              "      <td>0.605799</td>\n",
              "      <td>0.520999</td>\n",
              "      <td>0.482381</td>\n",
              "      <td>0.403745</td>\n",
              "      <td>0.330306</td>\n",
              "      <td>249.743529</td>\n",
              "      <td>0.041649</td>\n",
              "    </tr>\n",
              "    <tr>\n",
              "      <th>min</th>\n",
              "      <td>0.000000</td>\n",
              "      <td>0.000000</td>\n",
              "      <td>-56.407510</td>\n",
              "      <td>-72.715728</td>\n",
              "      <td>-48.325589</td>\n",
              "      <td>-5.683171</td>\n",
              "      <td>-113.743307</td>\n",
              "      <td>-26.160506</td>\n",
              "      <td>-43.557242</td>\n",
              "      <td>-73.216718</td>\n",
              "      <td>-13.434066</td>\n",
              "      <td>-24.588262</td>\n",
              "      <td>-4.797473</td>\n",
              "      <td>-18.683715</td>\n",
              "      <td>-5.791881</td>\n",
              "      <td>-19.214325</td>\n",
              "      <td>-4.498945</td>\n",
              "      <td>-14.129855</td>\n",
              "      <td>-25.162799</td>\n",
              "      <td>-9.498746</td>\n",
              "      <td>-7.213527</td>\n",
              "      <td>-54.497720</td>\n",
              "      <td>-34.830382</td>\n",
              "      <td>-10.933144</td>\n",
              "      <td>-44.807735</td>\n",
              "      <td>-2.836627</td>\n",
              "      <td>-10.295397</td>\n",
              "      <td>-2.604551</td>\n",
              "      <td>-22.565679</td>\n",
              "      <td>-15.430084</td>\n",
              "      <td>0.000000</td>\n",
              "      <td>0.000000</td>\n",
              "    </tr>\n",
              "    <tr>\n",
              "      <th>25%</th>\n",
              "      <td>70785.750000</td>\n",
              "      <td>54019.000000</td>\n",
              "      <td>-0.920451</td>\n",
              "      <td>-0.599794</td>\n",
              "      <td>-0.883903</td>\n",
              "      <td>-0.848807</td>\n",
              "      <td>-0.693753</td>\n",
              "      <td>-0.767289</td>\n",
              "      <td>-0.554711</td>\n",
              "      <td>-0.208136</td>\n",
              "      <td>-0.643809</td>\n",
              "      <td>-0.534783</td>\n",
              "      <td>-0.760348</td>\n",
              "      <td>-0.407418</td>\n",
              "      <td>-0.648877</td>\n",
              "      <td>-0.424484</td>\n",
              "      <td>-0.582054</td>\n",
              "      <td>-0.468385</td>\n",
              "      <td>-0.483408</td>\n",
              "      <td>-0.498850</td>\n",
              "      <td>-0.456698</td>\n",
              "      <td>-0.211656</td>\n",
              "      <td>-0.228221</td>\n",
              "      <td>-0.541851</td>\n",
              "      <td>-0.161945</td>\n",
              "      <td>-0.354572</td>\n",
              "      <td>-0.316244</td>\n",
              "      <td>-0.327180</td>\n",
              "      <td>-0.070815</td>\n",
              "      <td>-0.052878</td>\n",
              "      <td>5.640000</td>\n",
              "      <td>0.000000</td>\n",
              "    </tr>\n",
              "    <tr>\n",
              "      <th>50%</th>\n",
              "      <td>141571.500000</td>\n",
              "      <td>84393.500000</td>\n",
              "      <td>0.018481</td>\n",
              "      <td>0.064548</td>\n",
              "      <td>0.184552</td>\n",
              "      <td>-0.018654</td>\n",
              "      <td>-0.056572</td>\n",
              "      <td>-0.272919</td>\n",
              "      <td>0.038915</td>\n",
              "      <td>0.022593</td>\n",
              "      <td>-0.052015</td>\n",
              "      <td>-0.092452</td>\n",
              "      <td>-0.029859</td>\n",
              "      <td>0.138843</td>\n",
              "      <td>-0.013900</td>\n",
              "      <td>0.050947</td>\n",
              "      <td>0.049711</td>\n",
              "      <td>0.066512</td>\n",
              "      <td>-0.065386</td>\n",
              "      <td>-0.004212</td>\n",
              "      <td>0.003694</td>\n",
              "      <td>-0.062257</td>\n",
              "      <td>-0.029544</td>\n",
              "      <td>0.006549</td>\n",
              "      <td>-0.011438</td>\n",
              "      <td>0.041129</td>\n",
              "      <td>0.018047</td>\n",
              "      <td>-0.052484</td>\n",
              "      <td>0.001421</td>\n",
              "      <td>0.011345</td>\n",
              "      <td>22.000000</td>\n",
              "      <td>0.000000</td>\n",
              "    </tr>\n",
              "    <tr>\n",
              "      <th>75%</th>\n",
              "      <td>212357.250000</td>\n",
              "      <td>138822.250000</td>\n",
              "      <td>1.314418</td>\n",
              "      <td>0.802042</td>\n",
              "      <td>1.030213</td>\n",
              "      <td>0.745606</td>\n",
              "      <td>0.609916</td>\n",
              "      <td>0.399617</td>\n",
              "      <td>0.569262</td>\n",
              "      <td>0.327225</td>\n",
              "      <td>0.597639</td>\n",
              "      <td>0.454749</td>\n",
              "      <td>0.741522</td>\n",
              "      <td>0.617873</td>\n",
              "      <td>0.662508</td>\n",
              "      <td>0.493254</td>\n",
              "      <td>0.650975</td>\n",
              "      <td>0.523768</td>\n",
              "      <td>0.399718</td>\n",
              "      <td>0.500390</td>\n",
              "      <td>0.459253</td>\n",
              "      <td>0.133405</td>\n",
              "      <td>0.185975</td>\n",
              "      <td>0.527208</td>\n",
              "      <td>0.147276</td>\n",
              "      <td>0.439107</td>\n",
              "      <td>0.351315</td>\n",
              "      <td>0.241331</td>\n",
              "      <td>0.090903</td>\n",
              "      <td>0.078218</td>\n",
              "      <td>77.500000</td>\n",
              "      <td>0.000000</td>\n",
              "    </tr>\n",
              "    <tr>\n",
              "      <th>max</th>\n",
              "      <td>283143.000000</td>\n",
              "      <td>171399.000000</td>\n",
              "      <td>2.454930</td>\n",
              "      <td>22.057729</td>\n",
              "      <td>9.382558</td>\n",
              "      <td>16.875344</td>\n",
              "      <td>34.801666</td>\n",
              "      <td>73.301626</td>\n",
              "      <td>120.589494</td>\n",
              "      <td>20.007208</td>\n",
              "      <td>15.594995</td>\n",
              "      <td>23.745136</td>\n",
              "      <td>12.018913</td>\n",
              "      <td>7.848392</td>\n",
              "      <td>7.126883</td>\n",
              "      <td>10.526766</td>\n",
              "      <td>8.877742</td>\n",
              "      <td>17.315112</td>\n",
              "      <td>9.253526</td>\n",
              "      <td>5.041069</td>\n",
              "      <td>5.591971</td>\n",
              "      <td>39.420904</td>\n",
              "      <td>27.202839</td>\n",
              "      <td>10.503090</td>\n",
              "      <td>22.528412</td>\n",
              "      <td>4.584549</td>\n",
              "      <td>7.519589</td>\n",
              "      <td>3.517346</td>\n",
              "      <td>31.612198</td>\n",
              "      <td>33.847808</td>\n",
              "      <td>25691.160000</td>\n",
              "      <td>1.000000</td>\n",
              "    </tr>\n",
              "  </tbody>\n",
              "</table>\n",
              "</div>"
            ],
            "text/plain": [
              "               index           Time  ...         Amount          Class\n",
              "count  283144.000000  283144.000000  ...  283144.000000  283144.000000\n",
              "mean   141571.500000   94360.198652  ...      88.456790       0.001738\n",
              "std     81736.776647   47255.911145  ...     249.743529       0.041649\n",
              "min         0.000000       0.000000  ...       0.000000       0.000000\n",
              "25%     70785.750000   54019.000000  ...       5.640000       0.000000\n",
              "50%    141571.500000   84393.500000  ...      22.000000       0.000000\n",
              "75%    212357.250000  138822.250000  ...      77.500000       0.000000\n",
              "max    283143.000000  171399.000000  ...   25691.160000       1.000000\n",
              "\n",
              "[8 rows x 32 columns]"
            ]
          },
          "metadata": {
            "tags": []
          },
          "execution_count": 242
        }
      ]
    },
    {
      "cell_type": "code",
      "metadata": {
        "id": "TdtQoSAzycil",
        "colab_type": "code",
        "colab": {
          "base_uri": "https://localhost:8080/",
          "height": 529
        },
        "outputId": "bbcf872f-7244-4dc4-e650-847e25ec20c4"
      },
      "source": [
        "sns.heatmap(fd.isnull(),yticklabels=False,cbar=False,cmap='viridis')"
      ],
      "execution_count": null,
      "outputs": [
        {
          "output_type": "execute_result",
          "data": {
            "text/plain": [
              "<matplotlib.axes._subplots.AxesSubplot at 0x7f4045acacf8>"
            ]
          },
          "metadata": {
            "tags": []
          },
          "execution_count": 241
        },
        {
          "output_type": "display_data",
          "data": {
            "image/png": "[encoded data removed]",
            "text/plain": [
              "<Figure size 1152x576 with 1 Axes>"
            ]
          },
          "metadata": {
            "tags": [],
            "needs_background": "light"
          }
        }
      ]
    },
    {
      "cell_type": "markdown",
      "metadata": {
        "id": "ngZwPxMWylcd",
        "colab_type": "text"
      },
      "source": [
        "**Fraud Cases And Normal Cases**"
      ]
    },
    {
      "cell_type": "code",
      "metadata": {
        "id": "cJoW4LtSTSH8",
        "colab_type": "code",
        "colab": {}
      },
      "source": [
        "fraud_cases=len(fd[fd['Class']==1])"
      ],
      "execution_count": null,
      "outputs": []
    },
    {
      "cell_type": "code",
      "metadata": {
        "id": "47InqYMxTYpE",
        "colab_type": "code",
        "colab": {
          "base_uri": "https://localhost:8080/",
          "height": 34
        },
        "outputId": "9083e9f9-6e03-4eaf-84cb-6a4d78b4f201"
      },
      "source": [
        "print(' Number of Fraud Cases:',fraud_cases)"
      ],
      "execution_count": null,
      "outputs": [
        {
          "output_type": "stream",
          "text": [
            " Number of Fraud Cases: 492\n"
          ],
          "name": "stdout"
        }
      ]
    },
    {
      "cell_type": "code",
      "metadata": {
        "id": "55X27gEyThJE",
        "colab_type": "code",
        "colab": {}
      },
      "source": [
        "non_fraud_cases=len(fd[fd['Class']==0])"
      ],
      "execution_count": null,
      "outputs": []
    },
    {
      "cell_type": "code",
      "metadata": {
        "id": "CflsJmwRTm0u",
        "colab_type": "code",
        "colab": {
          "base_uri": "https://localhost:8080/",
          "height": 34
        },
        "outputId": "d2bf304e-c705-45da-d25d-f0ff8935cd45"
      },
      "source": [
        "print('Number of Non Fraud Cases:',non_fraud_cases)"
      ],
      "execution_count": null,
      "outputs": [
        {
          "output_type": "stream",
          "text": [
            "Number of Non Fraud Cases: 282652\n"
          ],
          "name": "stdout"
        }
      ]
    },
    {
      "cell_type": "code",
      "metadata": {
        "id": "aLNnsoLxT2zh",
        "colab_type": "code",
        "colab": {}
      },
      "source": [
        "fraud=fd[fd['Class']==1]"
      ],
      "execution_count": null,
      "outputs": []
    },
    {
      "cell_type": "code",
      "metadata": {
        "id": "r9gS0XMET8Ju",
        "colab_type": "code",
        "colab": {}
      },
      "source": [
        "normal=fd[fd['Class']==0]"
      ],
      "execution_count": null,
      "outputs": []
    },
    {
      "cell_type": "code",
      "metadata": {
        "id": "ka4oxV5_T-7l",
        "colab_type": "code",
        "colab": {
          "base_uri": "https://localhost:8080/",
          "height": 170
        },
        "outputId": "26e03171-3049-40ff-ce37-236a6b9c6a00"
      },
      "source": [
        "fraud.Amount.describe()"
      ],
      "execution_count": null,
      "outputs": [
        {
          "output_type": "execute_result",
          "data": {
            "text/plain": [
              "count     492.000000\n",
              "mean      122.211321\n",
              "std       256.683288\n",
              "min         0.000000\n",
              "25%         1.000000\n",
              "50%         9.250000\n",
              "75%       105.890000\n",
              "max      2125.870000\n",
              "Name: Amount, dtype: float64"
            ]
          },
          "metadata": {
            "tags": []
          },
          "execution_count": 116
        }
      ]
    },
    {
      "cell_type": "code",
      "metadata": {
        "id": "Ysijb3vyUI3F",
        "colab_type": "code",
        "colab": {
          "base_uri": "https://localhost:8080/",
          "height": 170
        },
        "outputId": "230d1fb7-505f-46b4-8676-0f2a144eda6b"
      },
      "source": [
        "normal.Amount.describe()"
      ],
      "execution_count": null,
      "outputs": [
        {
          "output_type": "execute_result",
          "data": {
            "text/plain": [
              "count    282652.000000\n",
              "mean         88.398035\n",
              "std         249.727771\n",
              "min           0.000000\n",
              "25%           5.690000\n",
              "50%          22.000000\n",
              "75%          77.350000\n",
              "max       25691.160000\n",
              "Name: Amount, dtype: float64"
            ]
          },
          "metadata": {
            "tags": []
          },
          "execution_count": 124
        }
      ]
    },
    {
      "cell_type": "code",
      "metadata": {
        "id": "1_75uxd_OHcz",
        "colab_type": "code",
        "colab": {
          "base_uri": "https://localhost:8080/",
          "height": 926
        },
        "outputId": "135fe1b8-f57c-4250-d11c-273ed7ceafd0"
      },
      "source": [
        "fd.hist(figsize = (20, 20))\n",
        "plt.show()"
      ],
      "execution_count": null,
      "outputs": [
        {
          "output_type": "display_data",
          "data": {
            "image/png": "[encoded data removed]",
            "text/plain": [
              "<Figure size 1440x1440 with 36 Axes>"
            ]
          },
          "metadata": {
            "tags": [],
            "needs_background": "light"
          }
        }
      ]
    },
    {
      "cell_type": "code",
      "metadata": {
        "id": "OYXQh49mOwZo",
        "colab_type": "code",
        "colab": {
          "base_uri": "https://localhost:8080/",
          "height": 295
        },
        "outputId": "048b7ebd-197b-41e1-d973-e9e65d3f9462"
      },
      "source": [
        "LABELS = [\"Normal\", \"Fraud\"]\n",
        "\n",
        "count_classes = pd.value_counts(fd['Class'], sort = True)\n",
        "count_classes.plot(kind = 'bar', rot=0)\n",
        "plt.title(\"Transaction Class Distribution\")\n",
        "plt.xticks(range(2), LABELS)\n",
        "plt.xlabel(\"Class\")\n",
        "plt.ylabel(\"Frequency\");"
      ],
      "execution_count": null,
      "outputs": [
        {
          "output_type": "display_data",
          "data": {
            "image/png": "[encoded data removed]",
            "text/plain": [
              "<Figure size 432x288 with 1 Axes>"
            ]
          },
          "metadata": {
            "tags": [],
            "needs_background": "light"
          }
        }
      ]
    },
    {
      "cell_type": "code",
      "metadata": {
        "id": "HZDT0UuNUohz",
        "colab_type": "code",
        "colab": {
          "base_uri": "https://localhost:8080/",
          "height": 545
        },
        "outputId": "35370ad7-9277-41cd-abf8-ec596f43f3f7"
      },
      "source": [
        "rcParams['figure.figsize'] = 16, 8\n",
        "f,(ax1, ax2) = plt.subplots(2, 1, sharex=True)\n",
        "f.suptitle('Time of transaction vs Amount by class')\n",
        "ax1.scatter(fraud.Time, fraud.Amount)\n",
        "ax1.set_title('Fraud')\n",
        "ax2.scatter(normal.Time, normal.Amount)\n",
        "ax2.set_title('normal')\n",
        "plt.xlabel('Time (in Seconds)')\n",
        "plt.ylabel('Amount')\n",
        "plt.show()"
      ],
      "execution_count": null,
      "outputs": [
        {
          "output_type": "display_data",
          "data": {
            "image/png": "[encoded data removed]",
            "text/plain": [
              "<Figure size 1152x576 with 2 Axes>"
            ]
          },
          "metadata": {
            "tags": [],
            "needs_background": "light"
          }
        }
      ]
    },
    {
      "cell_type": "markdown",
      "metadata": {
        "id": "yuaTdMFbVfyZ",
        "colab_type": "text"
      },
      "source": [
        "**Correlation**"
      ]
    },
    {
      "cell_type": "code",
      "metadata": {
        "id": "eQ48A4krNtUY",
        "colab_type": "code",
        "colab": {
          "base_uri": "https://localhost:8080/",
          "height": 570
        },
        "outputId": "da55f8d7-bdbc-41bd-f0d7-1ced7c3246c9"
      },
      "source": [
        "corrmat = fd.corr()\n",
        "fig = plt.figure(figsize = (12, 9))\n",
        "\n",
        "sns.heatmap(corrmat, vmax = .8, square = True)\n",
        "plt.show()"
      ],
      "execution_count": null,
      "outputs": [
        {
          "output_type": "display_data",
          "data": {
            "image/png": "[encoded data removed]",
            "text/plain": [
              "<Figure size 864x648 with 2 Axes>"
            ]
          },
          "metadata": {
            "tags": [],
            "needs_background": "light"
          }
        }
      ]
    },
    {
      "cell_type": "code",
      "metadata": {
        "id": "yNT3gsQ-cGDf",
        "colab_type": "code",
        "colab": {}
      },
      "source": [
        "nan_value=float(\"NaN\")\n",
        "fd.replace(\"\",nan_value,inplace=True)\n",
        "fd.dropna(subset=['V15'],inplace=True)"
      ],
      "execution_count": null,
      "outputs": []
    },
    {
      "cell_type": "markdown",
      "metadata": {
        "id": "vjAHVFRO1Owq",
        "colab_type": "text"
      },
      "source": [
        "**Building Models**"
      ]
    },
    {
      "cell_type": "markdown",
      "metadata": {
        "id": "prnwZWGh1VTz",
        "colab_type": "text"
      },
      "source": [
        "*Model 1*"
      ]
    },
    {
      "cell_type": "code",
      "metadata": {
        "id": "uX4PGxlng5C1",
        "colab_type": "code",
        "colab": {}
      },
      "source": [
        "from sklearn.model_selection import train_test_split"
      ],
      "execution_count": null,
      "outputs": []
    },
    {
      "cell_type": "code",
      "metadata": {
        "id": "46cXMsflg-Dc",
        "colab_type": "code",
        "colab": {}
      },
      "source": [
        "X=fd.drop(['Class'],axis=1)"
      ],
      "execution_count": null,
      "outputs": []
    },
    {
      "cell_type": "code",
      "metadata": {
        "id": "dyPAzFxbW-IZ",
        "colab_type": "code",
        "colab": {}
      },
      "source": [
        "y=fd['Class']"
      ],
      "execution_count": null,
      "outputs": []
    },
    {
      "cell_type": "code",
      "metadata": {
        "id": "oBsuvQoZXECP",
        "colab_type": "code",
        "colab": {}
      },
      "source": [
        "X_train,X_test,y_train,y_test=train_test_split(X,y,test_size=0.30,random_state=123)"
      ],
      "execution_count": null,
      "outputs": []
    },
    {
      "cell_type": "code",
      "metadata": {
        "id": "4j1uoQpKXIcr",
        "colab_type": "code",
        "colab": {}
      },
      "source": [
        "from sklearn.ensemble import RandomForestClassifier"
      ],
      "execution_count": null,
      "outputs": []
    },
    {
      "cell_type": "code",
      "metadata": {
        "id": "k3RLEMgqXOEI",
        "colab_type": "code",
        "colab": {}
      },
      "source": [
        "rfc=RandomForestClassifier()"
      ],
      "execution_count": null,
      "outputs": []
    },
    {
      "cell_type": "code",
      "metadata": {
        "id": "WSmX9sEfXRNL",
        "colab_type": "code",
        "colab": {}
      },
      "source": [
        "model=rfc.fit(X_train,y_train)"
      ],
      "execution_count": null,
      "outputs": []
    },
    {
      "cell_type": "code",
      "metadata": {
        "id": "8g10pGb_XafH",
        "colab_type": "code",
        "colab": {}
      },
      "source": [
        "prediction=model.predict(X_test)"
      ],
      "execution_count": null,
      "outputs": []
    },
    {
      "cell_type": "code",
      "metadata": {
        "id": "V5zdnIAFXqUX",
        "colab_type": "code",
        "colab": {}
      },
      "source": [
        "from sklearn.metrics import accuracy_score"
      ],
      "execution_count": null,
      "outputs": []
    },
    {
      "cell_type": "code",
      "metadata": {
        "id": "fLxRCEAoXto0",
        "colab_type": "code",
        "colab": {
          "base_uri": "https://localhost:8080/",
          "height": 34
        },
        "outputId": "d4a2025f-f67c-42b2-ccf8-01d6aeafd412"
      },
      "source": [
        "accuracy_score(y_test,prediction)"
      ],
      "execution_count": null,
      "outputs": [
        {
          "output_type": "execute_result",
          "data": {
            "text/plain": [
              "0.9995173290638538"
            ]
          },
          "metadata": {
            "tags": []
          },
          "execution_count": 222
        }
      ]
    },
    {
      "cell_type": "markdown",
      "metadata": {
        "id": "-8VzPhUp1fDK",
        "colab_type": "text"
      },
      "source": [
        "*Model  2*"
      ]
    },
    {
      "cell_type": "code",
      "metadata": {
        "id": "LvCaMlA5YZ80",
        "colab_type": "code",
        "colab": {}
      },
      "source": [
        "from sklearn.linear_model import LogisticRegression"
      ],
      "execution_count": null,
      "outputs": []
    },
    {
      "cell_type": "code",
      "metadata": {
        "id": "IjBFSuCRYeFd",
        "colab_type": "code",
        "colab": {}
      },
      "source": [
        "X1=fd.drop(['Class'],axis=1)"
      ],
      "execution_count": null,
      "outputs": []
    },
    {
      "cell_type": "code",
      "metadata": {
        "id": "NIOTLYoiYo4s",
        "colab_type": "code",
        "colab": {}
      },
      "source": [
        "y1=fd['Class']"
      ],
      "execution_count": null,
      "outputs": []
    },
    {
      "cell_type": "code",
      "metadata": {
        "id": "xgSItSQjYwSz",
        "colab_type": "code",
        "colab": {}
      },
      "source": [
        "X1_train,X1_test,y1_train,y1_test=train_test_split(X1,y1,test_size=0.3,random_state=123)"
      ],
      "execution_count": null,
      "outputs": []
    },
    {
      "cell_type": "code",
      "metadata": {
        "id": "E-MKVhuUYzv9",
        "colab_type": "code",
        "colab": {}
      },
      "source": [
        "lr=LogisticRegression()"
      ],
      "execution_count": null,
      "outputs": []
    },
    {
      "cell_type": "code",
      "metadata": {
        "id": "-rswaIZYY4pD",
        "colab_type": "code",
        "colab": {
          "base_uri": "https://localhost:8080/",
          "height": 173
        },
        "outputId": "e5cdeaf1-c7a3-431b-c9ec-62ec0f4a694f"
      },
      "source": [
        "model2=lr.fit(X1_train,y1_train)"
      ],
      "execution_count": null,
      "outputs": [
        {
          "output_type": "stream",
          "text": [
            "/usr/local/lib/python3.6/dist-packages/sklearn/linear_model/_logistic.py:940: ConvergenceWarning: lbfgs failed to converge (status=1):\n",
            "STOP: TOTAL NO. of ITERATIONS REACHED LIMIT.\n",
            "\n",
            "Increase the number of iterations (max_iter) or scale the data as shown in:\n",
            "    https://scikit-learn.org/stable/modules/preprocessing.html\n",
            "Please also refer to the documentation for alternative solver options:\n",
            "    https://scikit-learn.org/stable/modules/linear_model.html#logistic-regression\n",
            "  extra_warning_msg=_LOGISTIC_SOLVER_CONVERGENCE_MSG)\n"
          ],
          "name": "stderr"
        }
      ]
    },
    {
      "cell_type": "code",
      "metadata": {
        "id": "mic3V_9xwU0i",
        "colab_type": "code",
        "colab": {}
      },
      "source": [
        "prediction2=model2.predict(X1_test)"
      ],
      "execution_count": null,
      "outputs": []
    },
    {
      "cell_type": "code",
      "metadata": {
        "id": "csuAjqqIwYgI",
        "colab_type": "code",
        "colab": {
          "base_uri": "https://localhost:8080/",
          "height": 34
        },
        "outputId": "29ee0285-249f-444f-8931-19bbddee76c8"
      },
      "source": [
        "accuracy_score(y1_test,prediction2)"
      ],
      "execution_count": null,
      "outputs": [
        {
          "output_type": "execute_result",
          "data": {
            "text/plain": [
              "0.9989051610472782"
            ]
          },
          "metadata": {
            "tags": []
          },
          "execution_count": 231
        }
      ]
    },
    {
      "cell_type": "markdown",
      "metadata": {
        "id": "j1PucbttwhV4",
        "colab_type": "text"
      },
      "source": [
        "*Model 3*"
      ]
    },
    {
      "cell_type": "code",
      "metadata": {
        "id": "So2qrtHnwlKe",
        "colab_type": "code",
        "colab": {}
      },
      "source": [
        "from sklearn.tree import DecisionTreeRegressor"
      ],
      "execution_count": null,
      "outputs": []
    },
    {
      "cell_type": "code",
      "metadata": {
        "id": "Cox30rYowqtT",
        "colab_type": "code",
        "colab": {}
      },
      "source": [
        "X2=fd.drop(['Class'],axis=1)"
      ],
      "execution_count": null,
      "outputs": []
    },
    {
      "cell_type": "code",
      "metadata": {
        "id": "MOiS03yNwtci",
        "colab_type": "code",
        "colab": {}
      },
      "source": [
        "y2=fd['Class']"
      ],
      "execution_count": null,
      "outputs": []
    },
    {
      "cell_type": "code",
      "metadata": {
        "id": "xSmClZi6wxEv",
        "colab_type": "code",
        "colab": {}
      },
      "source": [
        "dt=DecisionTreeRegressor()"
      ],
      "execution_count": null,
      "outputs": []
    },
    {
      "cell_type": "code",
      "metadata": {
        "id": "GIyMuivUw1B2",
        "colab_type": "code",
        "colab": {}
      },
      "source": [
        "X2_train,X2_test,y2_train,y2_test=train_test_split(X2,y2,test_size=0.3,random_state=123)"
      ],
      "execution_count": null,
      "outputs": []
    },
    {
      "cell_type": "code",
      "metadata": {
        "id": "Zh8h6iciw3Fk",
        "colab_type": "code",
        "colab": {}
      },
      "source": [
        "model3=dt.fit(X2_train,y2_train)"
      ],
      "execution_count": null,
      "outputs": []
    },
    {
      "cell_type": "code",
      "metadata": {
        "id": "tDaitR4uw_FU",
        "colab_type": "code",
        "colab": {}
      },
      "source": [
        "prediction3=model3.predict(X2_test)"
      ],
      "execution_count": null,
      "outputs": []
    },
    {
      "cell_type": "code",
      "metadata": {
        "id": "BVFcAhKyxB51",
        "colab_type": "code",
        "colab": {
          "base_uri": "https://localhost:8080/",
          "height": 34
        },
        "outputId": "6b04565d-913a-477d-8543-0f43efe37df9"
      },
      "source": [
        "accuracy_score(y2_test,prediction3)"
      ],
      "execution_count": null,
      "outputs": [
        {
          "output_type": "execute_result",
          "data": {
            "text/plain": [
              "0.9991759276699943"
            ]
          },
          "metadata": {
            "tags": []
          },
          "execution_count": 240
        }
      ]
    }
  ]
}